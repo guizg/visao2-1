{
 "cells": [
  {
   "cell_type": "markdown",
   "metadata": {},
   "source": [
    "# Projeto 2-1: Estabilização de imagens\n",
    "\n",
    "### Guilherme Zaborowsky Graicer"
   ]
  },
  {
   "cell_type": "markdown",
   "metadata": {},
   "source": [
    "Motivação: https://www.youtube.com/watch?v=4vt7bGEen2s\n",
    "\n",
    "##### Agora que você consegue capturar o fluxo ótico entre duas imagens consecultivas, vamos utilizá-lo de modo inverso: como seria uma forma de compensar eventuais oscilações na câmera?\n"
   ]
  },
  {
   "cell_type": "markdown",
   "metadata": {},
   "source": [
    "Para compensar as eventuais oscilações na câmera, pode-se calcular o fluxo ótico entre o frame atual e o primeiro frame do vídeo e transladar o vídeo. A quantidade dessa translação é igual a da média do fluxo ótico dos pontos onde foi calculado, e o sentido é oposto."
   ]
  },
  {
   "cell_type": "markdown",
   "metadata": {},
   "source": [
    "##### Projete um programa que captura as imagens da webcam e realiza a estabilização da imagem. Você notará que se utilizar o programa acima, a estabilização será parcial e falha. Por que?"
   ]
  },
  {
   "cell_type": "markdown",
   "metadata": {},
   "source": [
    "Isso foi feito, mas não está mais aqui pois foi substituido pelo algoritmo com o Dense Optical Flow. Sim, a estabilização estava parcial e falha. Isso acontece pois ela calcula o fluxo ótico de pontos escolhidos como notáveis e esses pontos podem estar tanto no centro do video quanto nas bordas."
   ]
  },
  {
   "cell_type": "markdown",
   "metadata": {},
   "source": [
    "###### Você deve construir um Jupyter Notebook que utiliza o Dense Optical Flow para corrigir o problema acima. O notebook deve conter comentários acerca da solução usada."
   ]
  },
  {
   "cell_type": "markdown",
   "metadata": {},
   "source": [
    "A ideia é usar o Dense Optical Flow, que calcula o fluxo de todos os pixels da imagem dada, porém usando como parâmetro para fazer esse cálculo um corte do centro do frame."
   ]
  },
  {
   "cell_type": "code",
   "execution_count": 2,
   "metadata": {},
   "outputs": [],
   "source": [
    "%reset -f\n",
    "%matplotlib inline\n",
    "import cv2 as cv\n",
    "import numpy as np\n",
    "import matplotlib.pyplot as plt\n",
    "import time"
   ]
  },
  {
   "cell_type": "code",
   "execution_count": 26,
   "metadata": {},
   "outputs": [],
   "source": [
    "captura = cv.VideoCapture(0)\n",
    "\n",
    "# Para não deixar encavalar os frames\n",
    "captura.set(cv.CAP_PROP_BUFFERSIZE, 1)\n",
    "\n",
    "\n",
    "avg_x = 0\n",
    "avg_y = 0\n",
    "\n",
    "# Parametriza a funcao do OpenCV\n",
    "dt_params = dict( maxCorners = 100,\n",
    "                  qualityLevel = 0.3,\n",
    "                  minDistance = 7,\n",
    "                  blockSize = 7 )\n",
    "\n",
    "try:\n",
    "    while(1):\n",
    "\n",
    "        ret, previous = captura.read()\n",
    "        previous_gray = cv.cvtColor(previous, cv.COLOR_BGR2GRAY)\n",
    "        \n",
    "        ret, actual = captura.read()\n",
    "\n",
    "        actual_gray = cv.cvtColor(actual, cv.COLOR_BGR2GRAY)\n",
    "\n",
    "        # Calcula o Fluxo Otico do frame atual com o frame anterior\n",
    "        \n",
    "        flow = cv.calcOpticalFlowFarneback(previous_gray[200:280, 280:360], actual_gray[200:280, 280:360], None, 0.5, 3, 15, 3, 5, 1.2, 0)\n",
    " \n",
    "        \n",
    "        # Calcula a media do fluxo optico em x e y (e soma ela ao fluxo total) \n",
    "            \n",
    "        avg_x += np.average(flow[:,:,0])\n",
    "        avg_y += np.average(flow[:,:,1])\n",
    "        \n",
    "        \n",
    "        \n",
    "        # Translada a imagem a mesma quantidade da media do fluxo optico e sentido contrário (em ambas direções)\n",
    "        \n",
    "        rows, cols, cor = actual.shape\n",
    "\n",
    "        M = np.array([[1, 0, -avg_x], [0, 1, -avg_y]], dtype=np.float32)\n",
    "        actual = cv.warpAffine(actual, M, (cols,rows))\n",
    "        \n",
    "        # Mostra a imagem transladada\n",
    "        cv.imshow(\"Video\", actual)\n",
    "    \n",
    "        # Atualiza a imagem anterior com a imagem atual e copia os pontos.\n",
    "        previous_gray = actual_gray.copy()\n",
    "\n",
    "        # Pressione ESC para sair do loop\n",
    "        k = cv.waitKey(30) & 0xff\n",
    "        if k == 27:\n",
    "            break\n",
    "    \n",
    "except cv.error as e:\n",
    "   pass\n",
    "\n",
    "captura.release()\n",
    "cv.destroyAllWindows()\n"
   ]
  },
  {
   "cell_type": "code",
   "execution_count": null,
   "metadata": {},
   "outputs": [],
   "source": []
  },
  {
   "cell_type": "code",
   "execution_count": null,
   "metadata": {},
   "outputs": [],
   "source": []
  }
 ],
 "metadata": {
  "kernelspec": {
   "display_name": "Python 3",
   "language": "python",
   "name": "python3"
  },
  "language_info": {
   "codemirror_mode": {
    "name": "ipython",
    "version": 3
   },
   "file_extension": ".py",
   "mimetype": "text/x-python",
   "name": "python",
   "nbconvert_exporter": "python",
   "pygments_lexer": "ipython3",
   "version": "3.5.2"
  }
 },
 "nbformat": 4,
 "nbformat_minor": 2
}
